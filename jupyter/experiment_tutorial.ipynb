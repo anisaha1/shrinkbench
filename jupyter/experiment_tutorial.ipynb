{
 "cells": [
  {
   "cell_type": "markdown",
   "metadata": {},
   "source": [
    "# Experiment Tutorial"
   ]
  },
  {
   "cell_type": "code",
   "execution_count": 1,
   "metadata": {},
   "outputs": [],
   "source": [
    "from shrinkbench.experiment import PruningExperiment\n",
    "import os\n",
    "import torch\n",
    "import pickle\n",
    "import glob"
   ]
  },
  {
   "cell_type": "markdown",
   "metadata": {},
   "source": [
    "The `DATAPATH` and `WEIGHTSPATH` environment variables are used to tell the framework where to look for datasets and pretrained weights respectively."
   ]
  },
  {
   "cell_type": "code",
   "execution_count": 2,
   "metadata": {},
   "outputs": [],
   "source": [
    "os.environ['DATAPATH'] = '/nfs3/data/aniruddha:/nfs3/data/aniruddha/ULP/tiny_imagenet/Attacked_Data/Triggers_11_20'\n",
    "os.environ['WEIGHTSPATH'] = '/nfs3/data/aniruddha/ULP/tiny_imagenet/poisoned_models/Triggers_11_20'"
   ]
  },
  {
   "cell_type": "markdown",
   "metadata": {},
   "source": [
    "Code snippet to prune a TinyImageNet model."
   ]
  },
  {
   "cell_type": "code",
   "execution_count": 4,
   "metadata": {},
   "outputs": [],
   "source": [
    "# Choose which layer to prune\n",
    "module_list= ['layer4.0.conv1']\n",
    "\n",
    "# load ULPs and classifier\n",
    "# ANIRUDDHA - load ULPs to calculate parameter gradients\n",
    "N=10\n",
    "ULPs, W, b=pickle.load(open('/nfs3/code/aniruddha/ULP/tiny_imagenet/Results/universal_image_ResNet18_mod_N{}.pkl'.format(N),'rb'))\n",
    "\n",
    "# Weight pruning using product of parameter value and ULP gradient\n",
    "strategy = 'LayerMagGrad'\n",
    "# Dummy compression value. Keep this as 1. ULP importance score with Gaussian distribution clipping implement in override function           \n",
    "c = 1                               \n",
    "\n",
    "# Load list of poisoned models\n",
    "poisoned_model_list = sorted(glob.glob('/nfs3/data/aniruddha/ULP/tiny_imagenet/poisoned_models/Triggers_11_20/*.pt'))\n",
    "# Load poisoned model meta information\n",
    "meta = pickle.load(open('/nfs3/data/aniruddha/ULP/Webpage/tiny-imagenet/poisoned_models_Triggers_11_20_meta.pkl', 'rb'))\n",
    "# Number of models to run experiment on\n",
    "NUM_MODELS = 2\n",
    "\n",
    "for i in range(NUM_MODELS):\n",
    "    exp = PruningExperiment(dataset='TinyImageNet',         # Choose dataset\n",
    "                            model='resnet18_mod',           # Choose model architecture\n",
    "                            pretrained=False,               \n",
    "                            resume=poisoned_model_list[i],  # Model checkpoint\n",
    "                            strategy=strategy,              # Pruning strategy\n",
    "                            compression=c,                  # This argument used by default in Shrinkbench library\n",
    "                            train_kwargs={'epochs':1},      # Number of epochs of finetuning after pruning\n",
    "                            source=meta[i][1],              # Backdoor source class\n",
    "                            target=meta[i][2],              # Backdoor target class\n",
    "                            module_list=module_list,        # List of prunable modules.\n",
    "                            poisoned_root=os.path.basename(meta[i][3]), # Root directory of poisoned data.\n",
    "                            override_fraction=True,         # This overrides compression argument to use backdoor gaussian distribution fit.\n",
    "                            ULP_data=[ULPs, W, b]           # ULP images and classifier weight and bias.\n",
    "                            )\n",
    "    exp.run()\n",
    "\n",
    "# results saved in results/TinyImageNet "
   ]
  }
 ],
 "metadata": {
  "kernelspec": {
   "display_name": "Python 3",
   "language": "python",
   "name": "python3"
  },
  "language_info": {
   "codemirror_mode": {
    "name": "ipython",
    "version": 3
   },
   "file_extension": ".py",
   "mimetype": "text/x-python",
   "name": "python",
   "nbconvert_exporter": "python",
   "pygments_lexer": "ipython3",
   "version": "3.6.7"
  }
 },
 "nbformat": 4,
 "nbformat_minor": 2
}